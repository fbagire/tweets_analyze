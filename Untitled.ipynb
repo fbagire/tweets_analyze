{
 "cells": [
  {
   "cell_type": "code",
   "execution_count": 11,
   "id": "beautiful-glossary",
   "metadata": {},
   "outputs": [],
   "source": [
    "# from cleantext import clean\n",
    "#\n",
    "# s = \"¿Pos de cuál \\;i-       orégano le puso al pozole, oiga? 🤔 Esa clase de viajes no los tenía ni Bob Marley. 🙊🐅\"\n",
    "#\n",
    "# print(clean(s, no_emoji=True))\n",
    "import pygsheets"
   ]
  },
  {
   "cell_type": "code",
   "execution_count": 12,
   "id": "documented-ceramic",
   "metadata": {},
   "outputs": [],
   "source": [
    "gc = pygsheets.authorize(service_file='tweet-auto-01-833e318c05c8.json')\n",
    "\n",
    "# sh = gc.open('hh_test')"
   ]
  },
  {
   "cell_type": "code",
   "execution_count": 33,
   "id": "tough-suspect",
   "metadata": {},
   "outputs": [],
   "source": [
    "sh = gc.open('why')"
   ]
  },
  {
   "cell_type": "code",
   "execution_count": 34,
   "id": "turned-floating",
   "metadata": {},
   "outputs": [],
   "source": [
    "import pandas as pd"
   ]
  },
  {
   "cell_type": "code",
   "execution_count": 35,
   "id": "driving-springfield",
   "metadata": {
    "collapsed": true
   },
   "outputs": [
    {
     "data": {
      "text/html": [
       "<div>\n",
       "<style scoped>\n",
       "    .dataframe tbody tr th:only-of-type {\n",
       "        vertical-align: middle;\n",
       "    }\n",
       "\n",
       "    .dataframe tbody tr th {\n",
       "        vertical-align: top;\n",
       "    }\n",
       "\n",
       "    .dataframe thead th {\n",
       "        text-align: right;\n",
       "    }\n",
       "</style>\n",
       "<table border=\"1\" class=\"dataframe\">\n",
       "  <thead>\n",
       "    <tr style=\"text-align: right;\">\n",
       "      <th></th>\n",
       "      <th>0</th>\n",
       "      <th>1</th>\n",
       "      <th>2</th>\n",
       "    </tr>\n",
       "  </thead>\n",
       "  <tbody>\n",
       "    <tr>\n",
       "      <th>0</th>\n",
       "      <td>y</td>\n",
       "      <td>y</td>\n",
       "      <td></td>\n",
       "    </tr>\n",
       "    <tr>\n",
       "      <th>1</th>\n",
       "      <td>4</td>\n",
       "      <td>3</td>\n",
       "      <td></td>\n",
       "    </tr>\n",
       "    <tr>\n",
       "      <th>2</th>\n",
       "      <td>6</td>\n",
       "      <td>4</td>\n",
       "      <td></td>\n",
       "    </tr>\n",
       "    <tr>\n",
       "      <th>3</th>\n",
       "      <td>1</td>\n",
       "      <td>5</td>\n",
       "      <td></td>\n",
       "    </tr>\n",
       "    <tr>\n",
       "      <th>4</th>\n",
       "      <td>5</td>\n",
       "      <td>9</td>\n",
       "      <td></td>\n",
       "    </tr>\n",
       "    <tr>\n",
       "      <th>...</th>\n",
       "      <td>...</td>\n",
       "      <td>...</td>\n",
       "      <td>...</td>\n",
       "    </tr>\n",
       "    <tr>\n",
       "      <th>995</th>\n",
       "      <td></td>\n",
       "      <td></td>\n",
       "      <td></td>\n",
       "    </tr>\n",
       "    <tr>\n",
       "      <th>996</th>\n",
       "      <td></td>\n",
       "      <td></td>\n",
       "      <td></td>\n",
       "    </tr>\n",
       "    <tr>\n",
       "      <th>997</th>\n",
       "      <td></td>\n",
       "      <td></td>\n",
       "      <td></td>\n",
       "    </tr>\n",
       "    <tr>\n",
       "      <th>998</th>\n",
       "      <td></td>\n",
       "      <td></td>\n",
       "      <td></td>\n",
       "    </tr>\n",
       "    <tr>\n",
       "      <th>999</th>\n",
       "      <td></td>\n",
       "      <td></td>\n",
       "      <td></td>\n",
       "    </tr>\n",
       "  </tbody>\n",
       "</table>\n",
       "<p>1000 rows × 3 columns</p>\n",
       "</div>"
      ],
      "text/plain": [
       "     0  1 2 \n",
       "0    y  y   \n",
       "1    4  3   \n",
       "2    6  4   \n",
       "3    1  5   \n",
       "4    5  9   \n",
       "..  .. .. ..\n",
       "995         \n",
       "996         \n",
       "997         \n",
       "998         \n",
       "999         \n",
       "\n",
       "[1000 rows x 3 columns]"
      ]
     },
     "execution_count": 35,
     "metadata": {},
     "output_type": "execute_result"
    }
   ],
   "source": [
    "pd.DataFrame(sh[0].get_all_values())"
   ]
  },
  {
   "cell_type": "code",
   "execution_count": 37,
   "id": "published-syndrome",
   "metadata": {},
   "outputs": [],
   "source": [
    "sh[0].update_value('B7','=googletranslate(A7)')"
   ]
  },
  {
   "cell_type": "code",
   "execution_count": null,
   "id": "individual-editor",
   "metadata": {},
   "outputs": [],
   "source": [
    "gc.up"
   ]
  }
 ],
 "metadata": {
  "hide_input": false,
  "kernelspec": {
   "display_name": "Python 3",
   "language": "python",
   "name": "python3"
  },
  "language_info": {
   "codemirror_mode": {
    "name": "ipython",
    "version": 3
   },
   "file_extension": ".py",
   "mimetype": "text/x-python",
   "name": "python",
   "nbconvert_exporter": "python",
   "pygments_lexer": "ipython3",
   "version": "3.6.5"
  },
  "latex_envs": {
   "LaTeX_envs_menu_present": true,
   "autoclose": false,
   "autocomplete": true,
   "bibliofile": "biblio.bib",
   "cite_by": "apalike",
   "current_citInitial": 1,
   "eqLabelWithNumbers": true,
   "eqNumInitial": 1,
   "hotkeys": {
    "equation": "Ctrl-E",
    "itemize": "Ctrl-I"
   },
   "labels_anchors": false,
   "latex_user_defs": false,
   "report_style_numbering": false,
   "user_envs_cfg": false
  }
 },
 "nbformat": 4,
 "nbformat_minor": 5
}
