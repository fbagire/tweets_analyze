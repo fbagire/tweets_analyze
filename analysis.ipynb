{
 "cells": [
  {
   "cell_type": "code",
   "execution_count": 1,
   "id": "different-berlin",
   "metadata": {},
   "outputs": [],
   "source": [
    "from wordcloud import WordCloud, STOPWORDS\n",
    "import matplotlib.pyplot as plt\n",
    "import pandas as pd\n",
    "import gensim\n",
    "from gensim.models import CoherenceModel\n",
    "from gensim import corpora\n",
    "import matplotlib.pyplot as plt\n",
    "import matplotlib as mpl\n",
    "import seaborn as sns\n",
    "import re\n",
    "from importlib import reload\n",
    "import warnings\n",
    "from pprint import pprint\n",
    "import string\n",
    "import pyLDAvis.gensim as gensimvis\n",
    "import pickle \n",
    "import pyLDAvis\n",
    "plt.style.use('fivethirtyeight')\n",
    "mpl.rc('patch', edgecolor = 'dimgray', linewidth=1)\n",
    "%matplotlib inline"
   ]
  },
  {
   "cell_type": "code",
   "execution_count": 2,
   "id": "consistent-inspection",
   "metadata": {},
   "outputs": [],
   "source": [
    "warnings.filterwarnings(\"ignore\")"
   ]
  },
  {
   "cell_type": "code",
   "execution_count": 3,
   "id": "arabic-evidence",
   "metadata": {},
   "outputs": [],
   "source": [
    "import clean_tweets_dataframe as cld"
   ]
  },
  {
   "cell_type": "code",
   "execution_count": 4,
   "id": "distinguished-denver",
   "metadata": {
    "scrolled": false
   },
   "outputs": [
    {
     "data": {
      "text/plain": [
       "<module 'clean_tweets_dataframe' from 'C:\\\\Users\\\\Faith Bagire\\\\PycharmProjects\\\\pythonProject\\\\tweets_analyze\\\\clean_tweets_dataframe.py'>"
      ]
     },
     "execution_count": 4,
     "metadata": {},
     "output_type": "execute_result"
    }
   ],
   "source": [
    "reload(cld)"
   ]
  },
  {
   "cell_type": "code",
   "execution_count": 5,
   "id": "smooth-thousand",
   "metadata": {},
   "outputs": [],
   "source": [
    "# from clean_tweets_dataframe import CleanTweets"
   ]
  },
  {
   "cell_type": "code",
   "execution_count": 6,
   "id": "manufactured-marsh",
   "metadata": {},
   "outputs": [],
   "source": [
    "df_tweet=pd.read_csv(\"processed_tweet_data.csv\")"
   ]
  },
  {
   "cell_type": "code",
   "execution_count": 7,
   "id": "buried-greene",
   "metadata": {},
   "outputs": [
    {
     "name": "stdout",
     "output_type": "stream",
     "text": [
      "Automation in Action...!!!\n"
     ]
    }
   ],
   "source": [
    "cleaner=cld.CleanTweets(df_tweet)"
   ]
  },
  {
   "cell_type": "markdown",
   "id": "suited-fantasy",
   "metadata": {},
   "source": [
    "**Using cleaner module from clean_tweets_dataframe to clean the imported dataset**"
   ]
  },
  {
   "cell_type": "code",
   "execution_count": 8,
   "id": "above-screw",
   "metadata": {},
   "outputs": [],
   "source": [
    "df_tweet=cleaner.drop_unwanted_column(df_tweet)\n",
    "df_tweet=cleaner.drop_duplicate(df_tweet)\n",
    "df_tweet=cleaner.convert_to_datetime(df_tweet)\n",
    "df_tweet=cleaner.convert_to_numbers(df_tweet)\n",
    "df_tweet=cleaner.remove_non_english_tweets(df_tweet)\n",
    "df_tweet=cleaner.treat_special_characters(df_tweet)"
   ]
  },
  {
   "cell_type": "code",
   "execution_count": 9,
   "id": "seven-boost",
   "metadata": {
    "scrolled": false
   },
   "outputs": [
    {
     "name": "stdout",
     "output_type": "stream",
     "text": [
      "(1126, 19)\n"
     ]
    },
    {
     "data": {
      "text/html": [
       "<div>\n",
       "<style scoped>\n",
       "    .dataframe tbody tr th:only-of-type {\n",
       "        vertical-align: middle;\n",
       "    }\n",
       "\n",
       "    .dataframe tbody tr th {\n",
       "        vertical-align: top;\n",
       "    }\n",
       "\n",
       "    .dataframe thead th {\n",
       "        text-align: right;\n",
       "    }\n",
       "</style>\n",
       "<table border=\"1\" class=\"dataframe\">\n",
       "  <thead>\n",
       "    <tr style=\"text-align: right;\">\n",
       "      <th></th>\n",
       "      <th>created_at</th>\n",
       "      <th>source</th>\n",
       "      <th>original_text</th>\n",
       "      <th>cleaned_text</th>\n",
       "      <th>polarity</th>\n",
       "      <th>subjectivity</th>\n",
       "      <th>sentiment</th>\n",
       "      <th>lang</th>\n",
       "      <th>favorite_count</th>\n",
       "      <th>retweet_count</th>\n",
       "      <th>original_author</th>\n",
       "      <th>followers_count</th>\n",
       "      <th>friends_count</th>\n",
       "      <th>possibly_sensitive</th>\n",
       "      <th>hashtags</th>\n",
       "      <th>retweet_hashtags</th>\n",
       "      <th>user_mentions</th>\n",
       "      <th>place</th>\n",
       "      <th>place_coord_boundaries</th>\n",
       "    </tr>\n",
       "  </thead>\n",
       "  <tbody>\n",
       "    <tr>\n",
       "      <th>8</th>\n",
       "      <td>2022-07-18 15:25:28+00:00</td>\n",
       "      <td>Twitter for Android</td>\n",
       "      <td>RT @TheoMpoze: ‘It shouldn’t be happening agai...</td>\n",
       "      <td>‘It shouldn’t be happening again’:  rebels ret...</td>\n",
       "      <td>-0.150000</td>\n",
       "      <td>0.100000</td>\n",
       "      <td>Negative</td>\n",
       "      <td>en</td>\n",
       "      <td>0</td>\n",
       "      <td>0</td>\n",
       "      <td>Nduwamungu5</td>\n",
       "      <td>1579</td>\n",
       "      <td>418</td>\n",
       "      <td>False</td>\n",
       "      <td>PrimerasPáginas</td>\n",
       "      <td>NaN</td>\n",
       "      <td>EUwatchers</td>\n",
       "      <td>Valhalla</td>\n",
       "      <td>NaN</td>\n",
       "    </tr>\n",
       "    <tr>\n",
       "      <th>9</th>\n",
       "      <td>2022-07-18 15:21:48+00:00</td>\n",
       "      <td>EUwatch</td>\n",
       "      <td>European heat wave: Britain announces national...</td>\n",
       "      <td>European heat wave: Britain announces national...</td>\n",
       "      <td>0.000000</td>\n",
       "      <td>0.000000</td>\n",
       "      <td>Neutral</td>\n",
       "      <td>en</td>\n",
       "      <td>0</td>\n",
       "      <td>0</td>\n",
       "      <td>EUwatchers</td>\n",
       "      <td>25730</td>\n",
       "      <td>7621</td>\n",
       "      <td>False</td>\n",
       "      <td>Dictator</td>\n",
       "      <td>NaN</td>\n",
       "      <td>RepDeFiFidonia</td>\n",
       "      <td>República de fifidonia</td>\n",
       "      <td>NaN</td>\n",
       "    </tr>\n",
       "    <tr>\n",
       "      <th>17</th>\n",
       "      <td>2022-07-18 15:14:41+00:00</td>\n",
       "      <td>Microsoft Power Platform</td>\n",
       "      <td>Why are weather forecasts not always accurate?...</td>\n",
       "      <td>Why are weather forecasts not always accurate?...</td>\n",
       "      <td>0.400000</td>\n",
       "      <td>0.633333</td>\n",
       "      <td>Positive</td>\n",
       "      <td>en</td>\n",
       "      <td>0</td>\n",
       "      <td>0</td>\n",
       "      <td>123_INFO_DE</td>\n",
       "      <td>118</td>\n",
       "      <td>12</td>\n",
       "      <td>False</td>\n",
       "      <td>PrimerasPáginas</td>\n",
       "      <td>NaN</td>\n",
       "      <td>TheoMpoze</td>\n",
       "      <td>Mongwalu isiro aruwara</td>\n",
       "      <td>NaN</td>\n",
       "    </tr>\n",
       "    <tr>\n",
       "      <th>18</th>\n",
       "      <td>2022-07-18 15:10:04+00:00</td>\n",
       "      <td>Twitter for iPhone</td>\n",
       "      <td>RT @aqlila1: Tried to draw Rovina Desamero of ...</td>\n",
       "      <td>Tried to draw Rovina Desamero of Dosage of Ser...</td>\n",
       "      <td>0.000000</td>\n",
       "      <td>0.000000</td>\n",
       "      <td>Neutral</td>\n",
       "      <td>en</td>\n",
       "      <td>0</td>\n",
       "      <td>0</td>\n",
       "      <td>AriaSoondingie</td>\n",
       "      <td>621</td>\n",
       "      <td>1559</td>\n",
       "      <td>False</td>\n",
       "      <td>PrimerasPáginas</td>\n",
       "      <td>NaN</td>\n",
       "      <td>ILCAsia</td>\n",
       "      <td>Cape town, south africa</td>\n",
       "      <td>NaN</td>\n",
       "    </tr>\n",
       "    <tr>\n",
       "      <th>19</th>\n",
       "      <td>2022-07-18 15:08:55+00:00</td>\n",
       "      <td>Twitter Web App</td>\n",
       "      <td>RT @EUwatchers: Spain: Picasso sketch seized b...</td>\n",
       "      <td>Spain: Picasso sketch seized by customs offici...</td>\n",
       "      <td>0.000000</td>\n",
       "      <td>0.000000</td>\n",
       "      <td>Neutral</td>\n",
       "      <td>en</td>\n",
       "      <td>0</td>\n",
       "      <td>0</td>\n",
       "      <td>arson_cole</td>\n",
       "      <td>235</td>\n",
       "      <td>1699</td>\n",
       "      <td>False</td>\n",
       "      <td>PrimerasPáginas</td>\n",
       "      <td>NaN</td>\n",
       "      <td>RepDeFiFidonia</td>\n",
       "      <td>Seattle, wa</td>\n",
       "      <td>NaN</td>\n",
       "    </tr>\n",
       "    <tr>\n",
       "      <th>...</th>\n",
       "      <td>...</td>\n",
       "      <td>...</td>\n",
       "      <td>...</td>\n",
       "      <td>...</td>\n",
       "      <td>...</td>\n",
       "      <td>...</td>\n",
       "      <td>...</td>\n",
       "      <td>...</td>\n",
       "      <td>...</td>\n",
       "      <td>...</td>\n",
       "      <td>...</td>\n",
       "      <td>...</td>\n",
       "      <td>...</td>\n",
       "      <td>...</td>\n",
       "      <td>...</td>\n",
       "      <td>...</td>\n",
       "      <td>...</td>\n",
       "      <td>...</td>\n",
       "      <td>...</td>\n",
       "    </tr>\n",
       "    <tr>\n",
       "      <th>10411</th>\n",
       "      <td>2022-07-11 15:54:01+00:00</td>\n",
       "      <td>Buffer</td>\n",
       "      <td>The County of San Diego Regional Decarbonizati...</td>\n",
       "      <td>The County of San Diego Regional Decarbonizati...</td>\n",
       "      <td>0.000000</td>\n",
       "      <td>0.000000</td>\n",
       "      <td>Neutral</td>\n",
       "      <td>en</td>\n",
       "      <td>0</td>\n",
       "      <td>0</td>\n",
       "      <td>SDClimateCollab</td>\n",
       "      <td>308</td>\n",
       "      <td>275</td>\n",
       "      <td>False</td>\n",
       "      <td>NaN</td>\n",
       "      <td>NaN</td>\n",
       "      <td>NaN</td>\n",
       "      <td>NaN</td>\n",
       "      <td>NaN</td>\n",
       "    </tr>\n",
       "    <tr>\n",
       "      <th>10412</th>\n",
       "      <td>2022-07-11 15:53:52+00:00</td>\n",
       "      <td>Hootsuite Inc.</td>\n",
       "      <td>Thank you everyone who joined us for our RDF A...</td>\n",
       "      <td>Thank you everyone who joined us for our RDF A...</td>\n",
       "      <td>0.433333</td>\n",
       "      <td>0.505556</td>\n",
       "      <td>Positive</td>\n",
       "      <td>en</td>\n",
       "      <td>0</td>\n",
       "      <td>0</td>\n",
       "      <td>RazaFund</td>\n",
       "      <td>2452</td>\n",
       "      <td>340</td>\n",
       "      <td>False</td>\n",
       "      <td>NaN</td>\n",
       "      <td>NaN</td>\n",
       "      <td>NaN</td>\n",
       "      <td>NaN</td>\n",
       "      <td>NaN</td>\n",
       "    </tr>\n",
       "    <tr>\n",
       "      <th>10414</th>\n",
       "      <td>2022-07-11 15:51:46+00:00</td>\n",
       "      <td>EUwatch</td>\n",
       "      <td>Srebrenica massacre: Netherlands apologizes af...</td>\n",
       "      <td>Srebrenica massacre: Netherlands apologizes af...</td>\n",
       "      <td>0.000000</td>\n",
       "      <td>0.000000</td>\n",
       "      <td>Neutral</td>\n",
       "      <td>en</td>\n",
       "      <td>0</td>\n",
       "      <td>0</td>\n",
       "      <td>EUwatchers</td>\n",
       "      <td>25730</td>\n",
       "      <td>7621</td>\n",
       "      <td>False</td>\n",
       "      <td>NaN</td>\n",
       "      <td>NaN</td>\n",
       "      <td>NaN</td>\n",
       "      <td>NaN</td>\n",
       "      <td>NaN</td>\n",
       "    </tr>\n",
       "    <tr>\n",
       "      <th>10416</th>\n",
       "      <td>2022-07-11 15:51:32+00:00</td>\n",
       "      <td>Twitter Web App</td>\n",
       "      <td>Rwanda Security forces, (RDF &amp;amp; RNP)  70-80...</td>\n",
       "      <td>Rwanda Security forces, (RDF &amp;amp; RNP)  70-80...</td>\n",
       "      <td>0.000000</td>\n",
       "      <td>0.000000</td>\n",
       "      <td>Neutral</td>\n",
       "      <td>en</td>\n",
       "      <td>0</td>\n",
       "      <td>0</td>\n",
       "      <td>MurindwaJames</td>\n",
       "      <td>1580</td>\n",
       "      <td>1591</td>\n",
       "      <td>False</td>\n",
       "      <td>NaN</td>\n",
       "      <td>NaN</td>\n",
       "      <td>NaN</td>\n",
       "      <td>NaN</td>\n",
       "      <td>NaN</td>\n",
       "    </tr>\n",
       "    <tr>\n",
       "      <th>10421</th>\n",
       "      <td>2022-07-11 15:46:33+00:00</td>\n",
       "      <td>Twitter for iPhone</td>\n",
       "      <td>RT @FactsOnRwanda: Several top military leader...</td>\n",
       "      <td>Several top military leaders in Rwanda Defense...</td>\n",
       "      <td>-0.083333</td>\n",
       "      <td>0.266667</td>\n",
       "      <td>Negative</td>\n",
       "      <td>en</td>\n",
       "      <td>0</td>\n",
       "      <td>0</td>\n",
       "      <td>KayinamuraJose4</td>\n",
       "      <td>3792</td>\n",
       "      <td>5000</td>\n",
       "      <td>False</td>\n",
       "      <td>NaN</td>\n",
       "      <td>NaN</td>\n",
       "      <td>NaN</td>\n",
       "      <td>NaN</td>\n",
       "      <td>NaN</td>\n",
       "    </tr>\n",
       "  </tbody>\n",
       "</table>\n",
       "<p>1126 rows × 19 columns</p>\n",
       "</div>"
      ],
      "text/plain": [
       "                     created_at                    source  \\\n",
       "8     2022-07-18 15:25:28+00:00       Twitter for Android   \n",
       "9     2022-07-18 15:21:48+00:00                   EUwatch   \n",
       "17    2022-07-18 15:14:41+00:00  Microsoft Power Platform   \n",
       "18    2022-07-18 15:10:04+00:00        Twitter for iPhone   \n",
       "19    2022-07-18 15:08:55+00:00           Twitter Web App   \n",
       "...                         ...                       ...   \n",
       "10411 2022-07-11 15:54:01+00:00                    Buffer   \n",
       "10412 2022-07-11 15:53:52+00:00            Hootsuite Inc.   \n",
       "10414 2022-07-11 15:51:46+00:00                   EUwatch   \n",
       "10416 2022-07-11 15:51:32+00:00           Twitter Web App   \n",
       "10421 2022-07-11 15:46:33+00:00        Twitter for iPhone   \n",
       "\n",
       "                                           original_text  \\\n",
       "8      RT @TheoMpoze: ‘It shouldn’t be happening agai...   \n",
       "9      European heat wave: Britain announces national...   \n",
       "17     Why are weather forecasts not always accurate?...   \n",
       "18     RT @aqlila1: Tried to draw Rovina Desamero of ...   \n",
       "19     RT @EUwatchers: Spain: Picasso sketch seized b...   \n",
       "...                                                  ...   \n",
       "10411  The County of San Diego Regional Decarbonizati...   \n",
       "10412  Thank you everyone who joined us for our RDF A...   \n",
       "10414  Srebrenica massacre: Netherlands apologizes af...   \n",
       "10416  Rwanda Security forces, (RDF &amp; RNP)  70-80...   \n",
       "10421  RT @FactsOnRwanda: Several top military leader...   \n",
       "\n",
       "                                            cleaned_text  polarity  \\\n",
       "8      ‘It shouldn’t be happening again’:  rebels ret... -0.150000   \n",
       "9      European heat wave: Britain announces national...  0.000000   \n",
       "17     Why are weather forecasts not always accurate?...  0.400000   \n",
       "18     Tried to draw Rovina Desamero of Dosage of Ser...  0.000000   \n",
       "19     Spain: Picasso sketch seized by customs offici...  0.000000   \n",
       "...                                                  ...       ...   \n",
       "10411  The County of San Diego Regional Decarbonizati...  0.000000   \n",
       "10412  Thank you everyone who joined us for our RDF A...  0.433333   \n",
       "10414  Srebrenica massacre: Netherlands apologizes af...  0.000000   \n",
       "10416  Rwanda Security forces, (RDF &amp; RNP)  70-80...  0.000000   \n",
       "10421  Several top military leaders in Rwanda Defense... -0.083333   \n",
       "\n",
       "       subjectivity sentiment lang  favorite_count  retweet_count  \\\n",
       "8          0.100000  Negative   en               0              0   \n",
       "9          0.000000   Neutral   en               0              0   \n",
       "17         0.633333  Positive   en               0              0   \n",
       "18         0.000000   Neutral   en               0              0   \n",
       "19         0.000000   Neutral   en               0              0   \n",
       "...             ...       ...  ...             ...            ...   \n",
       "10411      0.000000   Neutral   en               0              0   \n",
       "10412      0.505556  Positive   en               0              0   \n",
       "10414      0.000000   Neutral   en               0              0   \n",
       "10416      0.000000   Neutral   en               0              0   \n",
       "10421      0.266667  Negative   en               0              0   \n",
       "\n",
       "       original_author  followers_count  friends_count  possibly_sensitive  \\\n",
       "8          Nduwamungu5             1579            418               False   \n",
       "9           EUwatchers            25730           7621               False   \n",
       "17         123_INFO_DE              118             12               False   \n",
       "18      AriaSoondingie              621           1559               False   \n",
       "19          arson_cole              235           1699               False   \n",
       "...                ...              ...            ...                 ...   \n",
       "10411  SDClimateCollab              308            275               False   \n",
       "10412         RazaFund             2452            340               False   \n",
       "10414       EUwatchers            25730           7621               False   \n",
       "10416    MurindwaJames             1580           1591               False   \n",
       "10421  KayinamuraJose4             3792           5000               False   \n",
       "\n",
       "              hashtags  retweet_hashtags   user_mentions  \\\n",
       "8      PrimerasPáginas               NaN      EUwatchers   \n",
       "9             Dictator               NaN  RepDeFiFidonia   \n",
       "17     PrimerasPáginas               NaN       TheoMpoze   \n",
       "18     PrimerasPáginas               NaN         ILCAsia   \n",
       "19     PrimerasPáginas               NaN  RepDeFiFidonia   \n",
       "...                ...               ...             ...   \n",
       "10411              NaN               NaN             NaN   \n",
       "10412              NaN               NaN             NaN   \n",
       "10414              NaN               NaN             NaN   \n",
       "10416              NaN               NaN             NaN   \n",
       "10421              NaN               NaN             NaN   \n",
       "\n",
       "                         place  place_coord_boundaries  \n",
       "8                     Valhalla                     NaN  \n",
       "9       República de fifidonia                     NaN  \n",
       "17     Mongwalu isiro aruwara                      NaN  \n",
       "18     Cape town, south africa                     NaN  \n",
       "19                 Seattle, wa                     NaN  \n",
       "...                        ...                     ...  \n",
       "10411                      NaN                     NaN  \n",
       "10412                      NaN                     NaN  \n",
       "10414                      NaN                     NaN  \n",
       "10416                      NaN                     NaN  \n",
       "10421                      NaN                     NaN  \n",
       "\n",
       "[1126 rows x 19 columns]"
      ]
     },
     "execution_count": 9,
     "metadata": {},
     "output_type": "execute_result"
    }
   ],
   "source": [
    "print(df_tweet.shape)\n",
    "df_tweet"
   ]
  },
  {
   "cell_type": "code",
   "execution_count": 10,
   "id": "appropriate-breakdown",
   "metadata": {},
   "outputs": [],
   "source": [
    "# from translate import translator\n",
    "\n",
    "# dict_translate=df_tweet.query(\"lang=='fr'\")['cleaned_text'].to_dict()\n",
    "\n",
    "# dc1=dict(list(dict_translate.items())[:1])\n",
    "\n",
    "# df_tweet.loc[69, 'cleaned_text'] = translator(source='fr',target='en',phrase='incendies en gironde  zoo hippodrome les animaux aussi sont évacués')[0][0][0]\n",
    "\n",
    "# translator(source='fr',target='en',phrase='les animaux aussi sont évacués')[0][0][0]"
   ]
  },
  {
   "cell_type": "code",
   "execution_count": null,
   "id": "premium-things",
   "metadata": {},
   "outputs": [],
   "source": [
    "# df_tweet.query(\"lang=='fr'\")[['original_text','cleaned_text']]"
   ]
  },
  {
   "cell_type": "markdown",
   "id": "golden-leisure",
   "metadata": {},
   "source": [
    "####  Export french tweets, make trnaslation and insert back new translated tweets"
   ]
  },
  {
   "cell_type": "code",
   "execution_count": 13,
   "id": "animal-original",
   "metadata": {},
   "outputs": [],
   "source": [
    "df_trans=df_tweet.query(\"lang=='fr'\")[['original_text','cleaned_text']]\n",
    "df_trans.to_csv('df_to_translate.csv')"
   ]
  },
  {
   "cell_type": "code",
   "execution_count": 14,
   "id": "sought-volume",
   "metadata": {},
   "outputs": [],
   "source": [
    "# translation completed"
   ]
  },
  {
   "cell_type": "code",
   "execution_count": 24,
   "id": "legal-beatles",
   "metadata": {},
   "outputs": [],
   "source": [
    "dict_to_translate=df_tweet.query(\"lang=='fr'\")['cleaned_text'].to_dict()\n",
    "\n",
    "dict_translated=pd.read_csv('df_translated.csv',index_col=0,usecols=[0,3]).to_dict()['translation']"
   ]
  },
  {
   "cell_type": "code",
   "execution_count": 25,
   "id": "major-prospect",
   "metadata": {},
   "outputs": [],
   "source": [
    "for idx in dict_to_translate.keys():\n",
    "    df_tweet.loc[idx, 'cleaned_text'] = dict_translated[idx]"
   ]
  },
  {
   "cell_type": "markdown",
   "id": "operational-foundation",
   "metadata": {},
   "source": [
    "### EDA of Tweets"
   ]
  },
  {
   "cell_type": "code",
   "execution_count": 28,
   "id": "distant-sunset",
   "metadata": {},
   "outputs": [
    {
     "data": {
      "image/png": "[encoded data removed]",
      "text/plain": [
       "<Figure size 504x648 with 1 Axes>"
      ]
     },
     "metadata": {
      "needs_background": "light"
     },
     "output_type": "display_data"
    }
   ],
   "source": [
    "# Check the percentage of missing values in every column\n",
    "ax = df_tweet.isna().sum().sort_values().plot(kind = 'barh', figsize = (7, 9))\n",
    "plt.title('Percentage of Missing Values Per Column in Tweets data', fontdict={'size':15})\n",
    "\n",
    "for p in ax.patches:\n",
    "    percentage ='{:,.3f}%'.format((p.get_width()/df_tweet.shape[0])*100)\n",
    "    width, height =p.get_width(),p.get_height()\n",
    "    x=p.get_x()+width+0.02\n",
    "    y=p.get_y()+height/2\n",
    "    ax.annotate(percentage,(x,y))"
   ]
  },
  {
   "cell_type": "code",
   "execution_count": 29,
   "id": "efficient-knight",
   "metadata": {
    "scrolled": false
   },
   "outputs": [
    {
     "data": {
      "text/plain": [
       "<AxesSubplot:ylabel='Place'>"
      ]
     },
     "execution_count": 29,
     "metadata": {},
     "output_type": "execute_result"
    },
    {
     "data": {
      "image/png": "[encoded data removed]",
      "text/plain": [
       "<Figure size 864x360 with 1 Axes>"
      ]
     },
     "metadata": {
      "needs_background": "light"
     },
     "output_type": "display_data"
    }
   ],
   "source": [
    "df_tweet['place'].value_counts(sort=True, ascending=False)[:10].plot(kind='barh',\n",
    "                                                                     figsize=(12,5),xlabel='Place')"
   ]
  },
  {
   "cell_type": "code",
   "execution_count": 30,
   "id": "foster-decimal",
   "metadata": {},
   "outputs": [],
   "source": [
    "df_tweet_date=df_tweet.set_index('created_at')"
   ]
  },
  {
   "cell_type": "code",
   "execution_count": 31,
   "id": "severe-queen",
   "metadata": {},
   "outputs": [
    {
     "data": {
      "text/plain": [
       "<AxesSubplot:xlabel='Date,time'>"
      ]
     },
     "execution_count": 31,
     "metadata": {},
     "output_type": "execute_result"
    },
    {
     "data": {
      "image/png": "[encoded data removed]",
      "text/plain": [
       "<Figure size 720x432 with 1 Axes>"
      ]
     },
     "metadata": {
      "needs_background": "light"
     },
     "output_type": "display_data"
    }
   ],
   "source": [
    "df_tweet_date.resample('D').mean()[['polarity','subjectivity']].dropna().plot(figsize=(10,6),xlabel='Date,time')"
   ]
  },
  {
   "cell_type": "markdown",
   "id": "chemical-grenada",
   "metadata": {},
   "source": [
    "### uni-variate Analysis on Hashtags\n"
   ]
  },
  {
   "cell_type": "code",
   "execution_count": 32,
   "id": "wired-doctor",
   "metadata": {},
   "outputs": [],
   "source": [
    "hashtag_df=df_tweet[['original_text','hashtags','retweet_hashtags']]"
   ]
  },
  {
   "cell_type": "code",
   "execution_count": 33,
   "id": "maritime-cylinder",
   "metadata": {},
   "outputs": [],
   "source": [
    "def find_hashtags(df_tweet):\n",
    "    '''This function will extract hashtags'''\n",
    "    return re.findall('(#[A-Za-z]+[A-Za-z0-9-_]+)', df_tweet)\n",
    "\n",
    "hashtag_df['hashtag_check']=df_tweet.original_text.apply(find_hashtags)"
   ]
  },
  {
   "cell_type": "code",
   "execution_count": 34,
   "id": "athletic-aruba",
   "metadata": {},
   "outputs": [],
   "source": [
    "hashtag_df.dropna(subset=['hashtag_check'],inplace=True)"
   ]
  },
  {
   "cell_type": "code",
   "execution_count": 35,
   "id": "controlling-gospel",
   "metadata": {},
   "outputs": [],
   "source": [
    "tags_list=list(hashtag_df['hashtag_check'])"
   ]
  },
  {
   "cell_type": "code",
   "execution_count": 36,
   "id": "irish-review",
   "metadata": {},
   "outputs": [],
   "source": [
    "hashtags_list_df = pd.DataFrame([tag for tags_row in tags_list for tag in tags_row],columns=['hashtag'])"
   ]
  },
  {
   "cell_type": "code",
   "execution_count": 37,
   "id": "intensive-eugene",
   "metadata": {},
   "outputs": [
    {
     "data": {
      "text/html": [
       "<div>\n",
       "<style scoped>\n",
       "    .dataframe tbody tr th:only-of-type {\n",
       "        vertical-align: middle;\n",
       "    }\n",
       "\n",
       "    .dataframe tbody tr th {\n",
       "        vertical-align: top;\n",
       "    }\n",
       "\n",
       "    .dataframe thead th {\n",
       "        text-align: right;\n",
       "    }\n",
       "</style>\n",
       "<table border=\"1\" class=\"dataframe\">\n",
       "  <thead>\n",
       "    <tr style=\"text-align: right;\">\n",
       "      <th></th>\n",
       "      <th>hashtag</th>\n",
       "    </tr>\n",
       "  </thead>\n",
       "  <tbody>\n",
       "    <tr>\n",
       "      <th>0</th>\n",
       "      <td>#M23</td>\n",
       "    </tr>\n",
       "    <tr>\n",
       "      <th>1</th>\n",
       "      <td>#DRC</td>\n",
       "    </tr>\n",
       "    <tr>\n",
       "      <th>2</th>\n",
       "      <td>#KnowledgeGraphs</td>\n",
       "    </tr>\n",
       "    <tr>\n",
       "      <th>3</th>\n",
       "      <td>#abdsc</td>\n",
       "    </tr>\n",
       "    <tr>\n",
       "      <th>4</th>\n",
       "      <td>#Semantic</td>\n",
       "    </tr>\n",
       "    <tr>\n",
       "      <th>...</th>\n",
       "      <td>...</td>\n",
       "    </tr>\n",
       "    <tr>\n",
       "      <th>624</th>\n",
       "      <td>#talks</td>\n",
       "    </tr>\n",
       "    <tr>\n",
       "      <th>625</th>\n",
       "      <td>#RDF</td>\n",
       "    </tr>\n",
       "    <tr>\n",
       "      <th>626</th>\n",
       "      <td>#Majorit</td>\n",
       "    </tr>\n",
       "    <tr>\n",
       "      <th>627</th>\n",
       "      <td>#RDF</td>\n",
       "    </tr>\n",
       "    <tr>\n",
       "      <th>628</th>\n",
       "      <td>#UnidosUS22</td>\n",
       "    </tr>\n",
       "  </tbody>\n",
       "</table>\n",
       "<p>629 rows × 1 columns</p>\n",
       "</div>"
      ],
      "text/plain": [
       "              hashtag\n",
       "0                #M23\n",
       "1                #DRC\n",
       "2    #KnowledgeGraphs\n",
       "3              #abdsc\n",
       "4           #Semantic\n",
       "..                ...\n",
       "624            #talks\n",
       "625              #RDF\n",
       "626          #Majorit\n",
       "627              #RDF\n",
       "628       #UnidosUS22\n",
       "\n",
       "[629 rows x 1 columns]"
      ]
     },
     "execution_count": 37,
     "metadata": {},
     "output_type": "execute_result"
    }
   ],
   "source": [
    "hashtags_list_df"
   ]
  },
  {
   "cell_type": "code",
   "execution_count": 38,
   "id": "expressed-gateway",
   "metadata": {},
   "outputs": [
    {
     "data": {
      "image/png": "[encoded data removed]",
      "text/plain": [
       "<Figure size 864x360 with 1 Axes>"
      ]
     },
     "metadata": {
      "needs_background": "light"
     },
     "output_type": "display_data"
    }
   ],
   "source": [
    "_=hashtags_list_df.value_counts()[:10].plot(kind='bar',figsize=(12,5),xlabel='Actual Hashtags')"
   ]
  },
  {
   "cell_type": "code",
   "execution_count": 39,
   "id": "liberal-saudi",
   "metadata": {},
   "outputs": [],
   "source": [
    "#Convert hastags to lowercase\n",
    "hashtags_list_df['hashtag'] = hashtags_list_df['hashtag'].str.lower()"
   ]
  },
  {
   "cell_type": "code",
   "execution_count": 40,
   "id": "caroline-utilization",
   "metadata": {},
   "outputs": [
    {
     "data": {
      "image/png": "[encoded data removed]",
      "text/plain": [
       "<Figure size 864x360 with 1 Axes>"
      ]
     },
     "metadata": {
      "needs_background": "light"
     },
     "output_type": "display_data"
    }
   ],
   "source": [
    "_=hashtags_list_df.value_counts()[:10].plot(kind='bar',figsize=(12,5),xlabel='Hashtags in Lowercase')"
   ]
  },
  {
   "cell_type": "code",
   "execution_count": 41,
   "id": "imposed-revolution",
   "metadata": {},
   "outputs": [],
   "source": [
    "user_summary=df_tweet.groupby('original_author').agg({'cleaned_text':'count','followers_count':'max',\n",
    "                                         'polarity':'mean','subjectivity':'mean', 'sentiment':pd.Series.mode})"
   ]
  },
  {
   "cell_type": "code",
   "execution_count": 42,
   "id": "completed-rapid",
   "metadata": {},
   "outputs": [
    {
     "data": {
      "text/html": [
       "<div>\n",
       "<style scoped>\n",
       "    .dataframe tbody tr th:only-of-type {\n",
       "        vertical-align: middle;\n",
       "    }\n",
       "\n",
       "    .dataframe tbody tr th {\n",
       "        vertical-align: top;\n",
       "    }\n",
       "\n",
       "    .dataframe thead th {\n",
       "        text-align: right;\n",
       "    }\n",
       "</style>\n",
       "<table border=\"1\" class=\"dataframe\">\n",
       "  <thead>\n",
       "    <tr style=\"text-align: right;\">\n",
       "      <th></th>\n",
       "      <th>cleaned_text</th>\n",
       "      <th>followers_count</th>\n",
       "      <th>polarity</th>\n",
       "      <th>subjectivity</th>\n",
       "      <th>sentiment</th>\n",
       "    </tr>\n",
       "    <tr>\n",
       "      <th>original_author</th>\n",
       "      <th></th>\n",
       "      <th></th>\n",
       "      <th></th>\n",
       "      <th></th>\n",
       "      <th></th>\n",
       "    </tr>\n",
       "  </thead>\n",
       "  <tbody>\n",
       "    <tr>\n",
       "      <th>123_INFO_DE</th>\n",
       "      <td>100</td>\n",
       "      <td>118</td>\n",
       "      <td>0.020725</td>\n",
       "      <td>0.156972</td>\n",
       "      <td>Neutral</td>\n",
       "    </tr>\n",
       "    <tr>\n",
       "      <th>Noticieros_MEX</th>\n",
       "      <td>78</td>\n",
       "      <td>4915</td>\n",
       "      <td>-0.032678</td>\n",
       "      <td>0.227569</td>\n",
       "      <td>Neutral</td>\n",
       "    </tr>\n",
       "    <tr>\n",
       "      <th>EUwatchers</th>\n",
       "      <td>52</td>\n",
       "      <td>25730</td>\n",
       "      <td>-0.009623</td>\n",
       "      <td>0.183093</td>\n",
       "      <td>Neutral</td>\n",
       "    </tr>\n",
       "    <tr>\n",
       "      <th>rogue_corq</th>\n",
       "      <td>34</td>\n",
       "      <td>1834</td>\n",
       "      <td>0.016583</td>\n",
       "      <td>0.168469</td>\n",
       "      <td>Neutral</td>\n",
       "    </tr>\n",
       "    <tr>\n",
       "      <th>bouche_bee</th>\n",
       "      <td>25</td>\n",
       "      <td>2836</td>\n",
       "      <td>0.041667</td>\n",
       "      <td>0.138667</td>\n",
       "      <td>Neutral</td>\n",
       "    </tr>\n",
       "    <tr>\n",
       "      <th>EtudesRwanda</th>\n",
       "      <td>20</td>\n",
       "      <td>500</td>\n",
       "      <td>0.000000</td>\n",
       "      <td>0.000000</td>\n",
       "      <td>Neutral</td>\n",
       "    </tr>\n",
       "    <tr>\n",
       "      <th>acute_tomato</th>\n",
       "      <td>14</td>\n",
       "      <td>17388</td>\n",
       "      <td>-0.036905</td>\n",
       "      <td>0.198810</td>\n",
       "      <td>Neutral</td>\n",
       "    </tr>\n",
       "    <tr>\n",
       "      <th>East_DRC_News</th>\n",
       "      <td>14</td>\n",
       "      <td>1262</td>\n",
       "      <td>0.000000</td>\n",
       "      <td>0.000000</td>\n",
       "      <td>Neutral</td>\n",
       "    </tr>\n",
       "    <tr>\n",
       "      <th>PhotoFinishBot</th>\n",
       "      <td>13</td>\n",
       "      <td>131</td>\n",
       "      <td>0.017486</td>\n",
       "      <td>0.577119</td>\n",
       "      <td>Neutral</td>\n",
       "    </tr>\n",
       "    <tr>\n",
       "      <th>SMARFreedom</th>\n",
       "      <td>10</td>\n",
       "      <td>2390</td>\n",
       "      <td>0.000455</td>\n",
       "      <td>0.180455</td>\n",
       "      <td>Neutral</td>\n",
       "    </tr>\n",
       "  </tbody>\n",
       "</table>\n",
       "</div>"
      ],
      "text/plain": [
       "                 cleaned_text  followers_count  polarity  subjectivity  \\\n",
       "original_author                                                          \n",
       "123_INFO_DE               100              118  0.020725      0.156972   \n",
       "Noticieros_MEX             78             4915 -0.032678      0.227569   \n",
       "EUwatchers                 52            25730 -0.009623      0.183093   \n",
       "rogue_corq                 34             1834  0.016583      0.168469   \n",
       "bouche_bee                 25             2836  0.041667      0.138667   \n",
       "EtudesRwanda               20              500  0.000000      0.000000   \n",
       "acute_tomato               14            17388 -0.036905      0.198810   \n",
       "East_DRC_News              14             1262  0.000000      0.000000   \n",
       "PhotoFinishBot             13              131  0.017486      0.577119   \n",
       "SMARFreedom                10             2390  0.000455      0.180455   \n",
       "\n",
       "                sentiment  \n",
       "original_author            \n",
       "123_INFO_DE       Neutral  \n",
       "Noticieros_MEX    Neutral  \n",
       "EUwatchers        Neutral  \n",
       "rogue_corq        Neutral  \n",
       "bouche_bee        Neutral  \n",
       "EtudesRwanda      Neutral  \n",
       "acute_tomato      Neutral  \n",
       "East_DRC_News     Neutral  \n",
       "PhotoFinishBot    Neutral  \n",
       "SMARFreedom       Neutral  "
      ]
     },
     "execution_count": 42,
     "metadata": {},
     "output_type": "execute_result"
    }
   ],
   "source": [
    "user_summary.sort_values(by='cleaned_text',ascending=False).head(10)"
   ]
  },
  {
   "cell_type": "markdown",
   "id": "wicked-bridal",
   "metadata": {},
   "source": [
    "Sentiment summary of the tweets"
   ]
  },
  {
   "cell_type": "code",
   "execution_count": 43,
   "id": "welcome-outside",
   "metadata": {},
   "outputs": [],
   "source": [
    "text_grouped = df_tweet.groupby('sentiment').count()['cleaned_text'].reset_index()"
   ]
  },
  {
   "cell_type": "code",
   "execution_count": 44,
   "id": "sonic-queen",
   "metadata": {},
   "outputs": [
    {
     "data": {
      "text/html": [
       "<div>\n",
       "<style scoped>\n",
       "    .dataframe tbody tr th:only-of-type {\n",
       "        vertical-align: middle;\n",
       "    }\n",
       "\n",
       "    .dataframe tbody tr th {\n",
       "        vertical-align: top;\n",
       "    }\n",
       "\n",
       "    .dataframe thead th {\n",
       "        text-align: right;\n",
       "    }\n",
       "</style>\n",
       "<table border=\"1\" class=\"dataframe\">\n",
       "  <thead>\n",
       "    <tr style=\"text-align: right;\">\n",
       "      <th></th>\n",
       "      <th>sentiment</th>\n",
       "      <th>cleaned_text</th>\n",
       "    </tr>\n",
       "  </thead>\n",
       "  <tbody>\n",
       "    <tr>\n",
       "      <th>0</th>\n",
       "      <td>Negative</td>\n",
       "      <td>159</td>\n",
       "    </tr>\n",
       "    <tr>\n",
       "      <th>1</th>\n",
       "      <td>Neutral</td>\n",
       "      <td>698</td>\n",
       "    </tr>\n",
       "    <tr>\n",
       "      <th>2</th>\n",
       "      <td>Positive</td>\n",
       "      <td>269</td>\n",
       "    </tr>\n",
       "  </tbody>\n",
       "</table>\n",
       "</div>"
      ],
      "text/plain": [
       "  sentiment  cleaned_text\n",
       "0  Negative           159\n",
       "1   Neutral           698\n",
       "2  Positive           269"
      ]
     },
     "execution_count": 44,
     "metadata": {},
     "output_type": "execute_result"
    }
   ],
   "source": [
    "text_grouped"
   ]
  },
  {
   "cell_type": "code",
   "execution_count": 45,
   "id": "difficult-bleeding",
   "metadata": {},
   "outputs": [
    {
     "data": {
      "text/plain": [
       "<AxesSubplot:xlabel='sentiment', ylabel='count'>"
      ]
     },
     "execution_count": 45,
     "metadata": {},
     "output_type": "execute_result"
    },
    {
     "data": {
      "image/png": "[encoded data removed]",
      "text/plain": [
       "<Figure size 432x288 with 1 Axes>"
      ]
     },
     "metadata": {
      "needs_background": "light"
     },
     "output_type": "display_data"
    }
   ],
   "source": [
    "sns.countplot(x='sentiment', data=df_tweet)"
   ]
  },
  {
   "cell_type": "markdown",
   "id": "opposite-blair",
   "metadata": {},
   "source": [
    "**Most frequent words in our tweets dataset**"
   ]
  },
  {
   "cell_type": "code",
   "execution_count": 46,
   "id": "increasing-innocent",
   "metadata": {},
   "outputs": [],
   "source": [
    "english_tweets=cleaner.remove_non_english_tweets(df_tweet)"
   ]
  },
  {
   "cell_type": "code",
   "execution_count": 47,
   "id": "conditional-bermuda",
   "metadata": {},
   "outputs": [],
   "source": [
    "# text Preprocessing\n",
    "english_tweets['cleaned_text'] = english_tweets['cleaned_text'].str.lower()\n",
    "english_tweets['cleaned_text'] = english_tweets['cleaned_text'].apply(\n",
    "    lambda x: x.translate(str.maketrans('', '', string.punctuation)))"
   ]
  },
  {
   "cell_type": "code",
   "execution_count": null,
   "id": "another-fisher",
   "metadata": {},
   "outputs": [],
   "source": [
    "all_words=' '.join(english_tweets.cleaned_text.values)\n",
    "wordcloud_obj=WordCloud(width=1000,height=600,stopwords=STOPWORDS).generate(all_words)"
   ]
  },
  {
   "cell_type": "code",
   "execution_count": null,
   "id": "editorial-background",
   "metadata": {
    "scrolled": false
   },
   "outputs": [],
   "source": [
    "plt.figure(figsize=(20, 10))\n",
    "\n",
    "plt.imshow(wordcloud_obj)\n",
    "plt.axis('off')\n",
    "plt.title('Most Frequent Words In Our Tweets',fontsize=16)\n",
    "plt.show()"
   ]
  },
  {
   "cell_type": "markdown",
   "id": "signal-macro",
   "metadata": {},
   "source": [
    "### Topic modeling"
   ]
  },
  {
   "cell_type": "code",
   "execution_count": null,
   "id": "disciplinary-shelf",
   "metadata": {},
   "outputs": [],
   "source": [
    "def preprocess_data(tweets_df):\n",
    "    # Converting tweets to list of words For feature engineering\n",
    "    sentence_list = [tweet for tweet in tweets_df['cleaned_text']]\n",
    "    word_list = [sent.split() for sent in sentence_list]\n",
    "    #Save only words and excludes emojis, punctuations\n",
    "    word_list_new=[]\n",
    "    for sent in word_list:\n",
    "        word_list_new.append([re.split(r'\\W+',word) for word in sent if word not in STOPWORDS and not word.isdigit()])\n",
    "    \n",
    "    word_list_final=[]\n",
    "    for sent in word_list_new:\n",
    "        word_list_final.append([i[0] for i in sent])\n",
    "    # Create dictionary which contains Id and word \n",
    "    word_to_id = corpora.Dictionary(word_list_final)\n",
    "    corpus_1 = [word_to_id.doc2bow(tweet) for tweet in word_list_final]\n",
    "\n",
    "    return word_list_final, word_to_id, corpus_1"
   ]
  },
  {
   "cell_type": "code",
   "execution_count": null,
   "id": "cleared-syndrome",
   "metadata": {},
   "outputs": [],
   "source": [
    "word_list, id2word, corpus=preprocess_data(english_tweets)"
   ]
  },
  {
   "cell_type": "code",
   "execution_count": null,
   "id": "proof-greene",
   "metadata": {},
   "outputs": [],
   "source": [
    "# Build LDA model\n",
    "lda_model = gensim.models.ldamodel.LdaModel(corpus,\n",
    "                                           id2word=id2word,\n",
    "                                           num_topics=5, \n",
    "                                           random_state=100,\n",
    "                                           update_every=1,\n",
    "                                           chunksize=100,\n",
    "                                           passes=10,\n",
    "                                           alpha='auto',\n",
    "                                           per_word_topics=False)"
   ]
  },
  {
   "cell_type": "code",
   "execution_count": null,
   "id": "small-greensboro",
   "metadata": {
    "scrolled": false
   },
   "outputs": [],
   "source": [
    "pprint(lda_model.show_topics(formatted=False))"
   ]
  },
  {
   "cell_type": "markdown",
   "id": "streaming-niger",
   "metadata": {},
   "source": [
    "### Model Analysis"
   ]
  },
  {
   "cell_type": "code",
   "execution_count": null,
   "id": "comprehensive-brave",
   "metadata": {},
   "outputs": [],
   "source": [
    "# Compute Perplexity\n",
    "\n",
    "#It's a measure of how good the model is. The lower the better. Perplexity is a negative value\n",
    "print('\\nPerplexity: ', lda_model.log_perplexity(corpus))  \n",
    "# doc_lda = lda_model[corpus]\n",
    "\n",
    "# Compute Coherence Score\n",
    "coherence_model_lda = CoherenceModel(model=lda_model, texts=word_list, dictionary=id2word, coherence='c_v')\n",
    "coherence_lda = coherence_model_lda.get_coherence()\n",
    "print('\\n Ldamodel Coherence Score/Accuracy on Tweets: ', coherence_lda)"
   ]
  },
  {
   "cell_type": "markdown",
   "id": "mechanical-diamond",
   "metadata": {},
   "source": [
    "**Model 1 words with some digits, 5 topics**\n",
    "\n",
    "Perplexity:  -9.857909007134007\\\n",
    "Ldamodel Coherence Score/Accuracy on Tweets:  0.4242327533406264\n",
    "\n",
    "**Model 2 words without digits, 5 topics**\n",
    "\n",
    "Perplexity:  -9.82031321033761\\\n",
    "Ldamodel Coherence Score/Accuracy on Tweets:  0.4368570452021986"
   ]
  },
  {
   "cell_type": "code",
   "execution_count": null,
   "id": "worthy-cutting",
   "metadata": {},
   "outputs": [],
   "source": [
    "# Visualize the topics\n",
    "pyLDAvis.enable_notebook()\n",
    "\n",
    "LDAvis_prepared = gensimvis.prepare(lda_model, corpus, id2word)\n",
    "LDAvis_prepared"
   ]
  },
  {
   "cell_type": "markdown",
   "id": "chief-popularity",
   "metadata": {},
   "source": [
    "**Number of Topics optimatization**\n",
    "\n",
    "As we can see the coherence accuracy increases with number of topics which is expected but again \\\n",
    "many topics again would lead to meaningless conclusion. Let's use elbow method to find optimum number of topics"
   ]
  },
  {
   "cell_type": "code",
   "execution_count": null,
   "id": "surface-oregon",
   "metadata": {},
   "outputs": [],
   "source": [
    "# Find best LDA Model considering different number of topics\n",
    "\n",
    "params_dic={'topics_number':[],'coherence':[],'perplexity':[]}\n",
    "for top_number in range(1,10):\n",
    "    lda_model = gensim.models.ldamodel.LdaModel(corpus,\n",
    "                                            id2word=id2word,\n",
    "                                            num_topics=top_number, \n",
    "                                            random_state=100,\n",
    "                                            update_every=1,\n",
    "                                            chunksize=100,\n",
    "                                            passes=10,\n",
    "                                            alpha='auto',\n",
    "                                            per_word_topics=False)\n",
    "    \n",
    "    perplexity=lda_model.log_perplexity(corpus)  \n",
    "    # Compute Coherence Score\n",
    "    coherence_model_lda = CoherenceModel(model=lda_model, texts=word_list, dictionary=id2word, coherence='c_v')\n",
    "    coherence_lda = coherence_model_lda.get_coherence()\n",
    "    params_dic['topics_number'].append(top_number)\n",
    "    params_dic['coherence'].append(coherence_lda)\n",
    "    params_dic['perplexity'].append(perplexity)"
   ]
  },
  {
   "cell_type": "code",
   "execution_count": null,
   "id": "potential-auckland",
   "metadata": {
    "scrolled": true
   },
   "outputs": [],
   "source": [
    "pd.DataFrame(params_dic).plot(y=['coherence'])\n",
    "# pd.read_csv(\"elbow_metrics.csv\",index_col=0).plot(y=['coherence'])"
   ]
  },
  {
   "cell_type": "code",
   "execution_count": null,
   "id": "broadband-remainder",
   "metadata": {},
   "outputs": [],
   "source": [
    "import numpy as np"
   ]
  },
  {
   "cell_type": "code",
   "execution_count": null,
   "id": "herbal-buffer",
   "metadata": {},
   "outputs": [],
   "source": [
    "alphas = list(np.arange(0.01, 3, 0.1))\n",
    "alphas.append('symmetric')\n",
    "alphas.append('asymmetric')\n",
    "alphas.append('auto')"
   ]
  },
  {
   "cell_type": "code",
   "execution_count": null,
   "id": "assisted-period",
   "metadata": {},
   "outputs": [],
   "source": [
    "# Find best LDA Model considering different number of alpha\n",
    "\n",
    "params_dic_alpha={'alpha':[],'coherence':[],'perplexity':[]}\n",
    "for alpha in alphas:\n",
    "    lda_model = gensim.models.ldamodel.LdaModel(corpus,\n",
    "                                            id2word=id2word,\n",
    "                                            num_topics=7, \n",
    "                                            random_state=100,\n",
    "                                            update_every=1,\n",
    "                                            chunksize=100,\n",
    "                                            passes=10,\n",
    "                                            alpha=alpha,\n",
    "                                            per_word_topics=False)\n",
    "    \n",
    "    perplexity=lda_model.log_perplexity(corpus)  \n",
    "    # Compute Coherence Score\n",
    "    coherence_model_lda = CoherenceModel(model=lda_model, texts=word_list, dictionary=id2word, coherence='c_v')\n",
    "    coherence_lda = coherence_model_lda.get_coherence()\n",
    "    params_dic_alpha['alpha'].append(alpha)\n",
    "    params_dic_alpha['coherence'].append(coherence_lda)\n",
    "    params_dic_alpha['perplexity'].append(perplexity)"
   ]
  },
  {
   "cell_type": "code",
   "execution_count": null,
   "id": "divine-picture",
   "metadata": {},
   "outputs": [],
   "source": [
    "pd.DataFrame(params_dic_alpha).plot(y='coherence')#.sort_values('coherence',ascending=False)"
   ]
  },
  {
   "cell_type": "markdown",
   "id": "comic-territory",
   "metadata": {},
   "source": [
    "**Model with selected optimum parameters**"
   ]
  },
  {
   "cell_type": "code",
   "execution_count": null,
   "id": "defined-blast",
   "metadata": {},
   "outputs": [],
   "source": [
    "# Build LDA model\n",
    "lda_model = gensim.models.ldamodel.LdaModel(corpus,\n",
    "                                           id2word=id2word,\n",
    "                                           num_topics=7, \n",
    "                                           random_state=100,\n",
    "                                           update_every=1,\n",
    "                                           chunksize=100,\n",
    "                                           passes=10,\n",
    "                                           alpha=0.1,\n",
    "                                           per_word_topics=False)"
   ]
  },
  {
   "cell_type": "code",
   "execution_count": null,
   "id": "interstate-antibody",
   "metadata": {},
   "outputs": [],
   "source": [
    "pprint(lda_model.show_topics(formatted=False))"
   ]
  },
  {
   "cell_type": "code",
   "execution_count": null,
   "id": "strong-broadway",
   "metadata": {},
   "outputs": [],
   "source": [
    "# Compute Perplexity\n",
    "#It's a measure of how good the model is. The lower the better. Perplexity is a negative value\n",
    "print('\\nPerplexity: ', lda_model.log_perplexity(corpus))  \n",
    "# doc_lda = lda_model[corpus]\n",
    "\n",
    "# Compute Coherence Score\n",
    "coherence_model_lda = CoherenceModel(model=lda_model, texts=word_list, dictionary=id2word, coherence='c_v')\n",
    "coherence_lda = coherence_model_lda.get_coherence()\n",
    "print('\\n Ldamodel Coherence Score/Accuracy on Tweets: ', coherence_lda)"
   ]
  },
  {
   "cell_type": "code",
   "execution_count": null,
   "id": "technical-repair",
   "metadata": {},
   "outputs": [],
   "source": [
    "# Visualize the topics\n",
    "pyLDAvis.enable_notebook()\n",
    "\n",
    "LDAvis_prepared = gensimvis.prepare(lda_model, corpus, id2word)\n",
    "LDAvis_prepared"
   ]
  },
  {
   "cell_type": "code",
   "execution_count": null,
   "id": "russian-snake",
   "metadata": {},
   "outputs": [],
   "source": []
  }
 ],
 "metadata": {
  "hide_input": false,
  "kernelspec": {
   "display_name": "Python 3",
   "language": "python",
   "name": "python3"
  },
  "language_info": {
   "codemirror_mode": {
    "name": "ipython",
    "version": 3
   },
   "file_extension": ".py",
   "mimetype": "text/x-python",
   "name": "python",
   "nbconvert_exporter": "python",
   "pygments_lexer": "ipython3",
   "version": "3.6.5"
  },
  "latex_envs": {
   "LaTeX_envs_menu_present": true,
   "autoclose": false,
   "autocomplete": true,
   "bibliofile": "biblio.bib",
   "cite_by": "apalike",
   "current_citInitial": 1,
   "eqLabelWithNumbers": true,
   "eqNumInitial": 1,
   "hotkeys": {
    "equation": "Ctrl-E",
    "itemize": "Ctrl-I"
   },
   "labels_anchors": false,
   "latex_user_defs": false,
   "report_style_numbering": false,
   "user_envs_cfg": false
  }
 },
 "nbformat": 4,
 "nbformat_minor": 5
}
